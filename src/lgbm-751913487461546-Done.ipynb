{
 "cells": [
  {
   "cell_type": "code",
   "execution_count": null,
   "metadata": {
    "_cell_guid": "b1076dfc-b9ad-4769-8c92-a6c4dae69d19",
    "_uuid": "8f2839f25d086af736a60e9eeb907d3b93b6e0e5"
   },
   "outputs": [],
   "source": [
    "# This Python 3 environment comes with many helpful analytics libraries installed\n",
    "# It is defined by the kaggle/python docker image: https://github.com/kaggle/docker-python\n",
    "# For example, here's several helpful packages to load in \n",
    "\n",
    "import numpy as np # linear algebra\n",
    "import pandas as pd # data processing, CSV file I/O (e.g. pd.read_csv)\n",
    "\n",
    "# Input data files are available in the \"../input/\" directory.\n",
    "# For example, running this (by clicking run or pressing Shift+Enter) will list all files under the input directory\n",
    "\n",
    "import os\n",
    "for dirname, _, filenames in os.walk('/kaggle/input'):\n",
    "    for filename in filenames:\n",
    "        print(os.path.join(dirname, filename))\n",
    "\n",
    "# Any results you write to the current directory are saved as output."
   ]
  },
  {
   "cell_type": "code",
   "execution_count": null,
   "metadata": {
    "_cell_guid": "79c7e3d0-c299-4dcb-8224-4455121ee9b0",
    "_uuid": "d629ff2d2480ee46fbb7e2d37f6b5fab8052498a"
   },
   "outputs": [],
   "source": [
    "import pandas as pd\n",
    "import numpy as np\n",
    "import matplotlib.pyplot as plt\n",
    "import seaborn as sns\n",
    "pd.options.display.max_rows=100\n",
    "pd.options.display.max_columns=100\n",
    "pd.options.display.max_colwidth=200\n",
    "import datetime as dt\n",
    "import warnings\n",
    "warnings.filterwarnings(action='ignore')\n",
    "from sklearn import preprocessing\n",
    "from sklearn.metrics import roc_auc_score,f1_score\n",
    "from sklearn.model_selection import KFold,GroupKFold,ShuffleSplit,StratifiedKFold\n",
    "import gc\n",
    "import lightgbm as lgb\n",
    "from tqdm import tqdm_notebook as tqdm\n",
    "from imblearn.over_sampling import SMOTE"
   ]
  },
  {
   "cell_type": "code",
   "execution_count": null,
   "metadata": {},
   "outputs": [],
   "source": [
    "path = '/kaggle/input/wns-wizard/'"
   ]
  },
  {
   "cell_type": "code",
   "execution_count": null,
   "metadata": {},
   "outputs": [],
   "source": [
    "#Reduce the memory usage - Inspired by Panchajanya Banerjee\n",
    "def reduce_mem_usage(df, verbose=True):\n",
    "    numerics = ['int16', 'int32', 'int64', 'float16', 'float32', 'float64']\n",
    "    start_mem = df.memory_usage().sum() / 1024**2    \n",
    "    for col in df.columns:\n",
    "        col_type = df[col].dtypes\n",
    "        if col_type in numerics:\n",
    "            c_min = df[col].min()\n",
    "            c_max = df[col].max()\n",
    "            if str(col_type)[:3] == 'int':\n",
    "                if c_min > np.iinfo(np.int8).min and c_max < np.iinfo(np.int8).max:\n",
    "                    df[col] = df[col].astype(np.int8)\n",
    "                elif c_min > np.iinfo(np.int16).min and c_max < np.iinfo(np.int16).max:\n",
    "                    df[col] = df[col].astype(np.int16)\n",
    "                elif c_min > np.iinfo(np.int32).min and c_max < np.iinfo(np.int32).max:\n",
    "                    df[col] = df[col].astype(np.int32)\n",
    "                elif c_min > np.iinfo(np.int64).min and c_max < np.iinfo(np.int64).max:\n",
    "                    df[col] = df[col].astype(np.int64)  \n",
    "            else:\n",
    "                if c_min > np.finfo(np.float16).min and c_max < np.finfo(np.float16).max:\n",
    "                    df[col] = df[col].astype(np.float16)\n",
    "                elif c_min > np.finfo(np.float32).min and c_max < np.finfo(np.float32).max:\n",
    "                    df[col] = df[col].astype(np.float32)\n",
    "                else:\n",
    "                    df[col] = df[col].astype(np.float64)    \n",
    "    end_mem = df.memory_usage().sum() / 1024**2\n",
    "    if verbose: print('Mem. usage decreased to {:5.2f} Mb ({:.1f}% reduction)'.format(end_mem, 100 * (start_mem - end_mem) / start_mem))\n",
    "    return df\n"
   ]
  },
  {
   "cell_type": "code",
   "execution_count": null,
   "metadata": {},
   "outputs": [],
   "source": [
    "train_df = reduce_mem_usage(pd.read_csv(f'{path}train.csv',parse_dates=['impression_time',],dayfirst=True))\n",
    "test_df = reduce_mem_usage(pd.read_csv(f'{path}test.csv',parse_dates=['impression_time',],dayfirst=True))\n",
    "item_data = reduce_mem_usage(pd.read_csv(f'{path}item_data.csv'))\n",
    "view_log = reduce_mem_usage(pd.read_csv(f'{path}view_log.csv',parse_dates=['server_time',],dayfirst=True))"
   ]
  },
  {
   "cell_type": "code",
   "execution_count": null,
   "metadata": {},
   "outputs": [],
   "source": [
    "from collections import Counter\n",
    "\n",
    "def get_class_weights(y):\n",
    "    counter = Counter(y)\n",
    "    majority = max(counter.values())\n",
    "    return  {cls: round(float(majority)/float(count), 2) for cls, count in counter.items()}\n",
    "\n",
    "class_weights = get_class_weights(train_df['is_click'])\n",
    "print(class_weights)"
   ]
  },
  {
   "cell_type": "code",
   "execution_count": null,
   "metadata": {},
   "outputs": [],
   "source": [
    "train_df['is_click'].value_counts()"
   ]
  },
  {
   "cell_type": "code",
   "execution_count": null,
   "metadata": {},
   "outputs": [],
   "source": [
    "train_df.shape"
   ]
  },
  {
   "cell_type": "code",
   "execution_count": null,
   "metadata": {},
   "outputs": [],
   "source": [
    "## is_click==1\n",
    "10862/237609"
   ]
  },
  {
   "cell_type": "code",
   "execution_count": null,
   "metadata": {},
   "outputs": [],
   "source": [
    "train_df.head(100)"
   ]
  },
  {
   "cell_type": "code",
   "execution_count": null,
   "metadata": {},
   "outputs": [],
   "source": [
    "test_df.head(100)"
   ]
  },
  {
   "cell_type": "code",
   "execution_count": null,
   "metadata": {},
   "outputs": [],
   "source": [
    "view_log.head(100)"
   ]
  },
  {
   "cell_type": "code",
   "execution_count": null,
   "metadata": {},
   "outputs": [],
   "source": [
    "train_df['is_train']=1\n",
    "test_df['is_train']=0"
   ]
  },
  {
   "cell_type": "code",
   "execution_count": null,
   "metadata": {},
   "outputs": [],
   "source": [
    "date_cols = ['impression_time']\n",
    "for date_col in date_cols:\n",
    "    train_df[date_col + \"_in_seconds\"] = (train_df[date_col] - dt.datetime(2000,1,1)).dt.total_seconds()\n",
    "    test_df[date_col + \"_in_seconds\"] = (test_df[date_col] - dt.datetime(2000,1,1)).dt.total_seconds()\n",
    "    \n",
    "    train_df[date_col + \"_month\"] = train_df[date_col].dt.month\n",
    "    test_df[date_col + \"_month\"] = test_df[date_col].dt.month\n",
    "    \n",
    "    train_df[date_col + \"_hour\"] = train_df[date_col].dt.hour\n",
    "    test_df[date_col + \"_hour\"] = test_df[date_col].dt.hour\n",
    "    \n",
    "    #train_df[date_col + \"_year\"] = train_df[date_col].dt.year\n",
    "    #test_df[date_col + \"_year\"] = test_df[date_col].dt.year\n",
    "    \n",
    "    train_df[date_col + \"_week\"] = train_df[date_col].dt.week\n",
    "    test_df[date_col + \"_week\"] = test_df[date_col].dt.week\n",
    "    \n",
    "    train_df[date_col + \"_weekDay\"] = train_df[date_col].dt.weekday\n",
    "    test_df[date_col + \"_weekDay\"] = test_df[date_col].dt.weekday"
   ]
  },
  {
   "cell_type": "code",
   "execution_count": null,
   "metadata": {},
   "outputs": [],
   "source": [
    "train_df['is_click'] = train_df['is_click'].astype(np.int8)"
   ]
  },
  {
   "cell_type": "code",
   "execution_count": null,
   "metadata": {},
   "outputs": [],
   "source": [
    "train_df.head()"
   ]
  },
  {
   "cell_type": "code",
   "execution_count": null,
   "metadata": {},
   "outputs": [],
   "source": [
    "dist = pd.DataFrame(np.zeros((train_df['impression_time_hour'].nunique(),4)),columns=['Var','Shape','Zeros','Ones'])\n",
    "for i,var in enumerate(train_df['impression_time_hour'].unique()):\n",
    "    mask = train_df['impression_time_hour']==var\n",
    "    size = train_df[mask].shape[0]\n",
    "    mask0 = train_df['is_click']==0\n",
    "    mask1 = train_df['is_click']==1\n",
    "    ones = train_df[mask & mask1].shape[0]\n",
    "    zeros = train_df[mask & mask0].shape[0]\n",
    "    dist.iloc[i,:]=[var,int(size),int(zeros),int(ones)]\n",
    "dist.sort_values(by='Ones',ascending=False)"
   ]
  },
  {
   "cell_type": "code",
   "execution_count": null,
   "metadata": {},
   "outputs": [],
   "source": [
    "train_df[train_df['is_click']==1]"
   ]
  },
  {
   "cell_type": "code",
   "execution_count": null,
   "metadata": {},
   "outputs": [],
   "source": [
    "train_app_unique = train_df['app_code'].unique() \n",
    "test_app_unique = test_df['app_code'].unique()\n",
    "s = [i for i in train_app_unique if i not in test_app_unique]\n",
    "ss = [i for i in test_app_unique if i not in train_app_unique]"
   ]
  },
  {
   "cell_type": "code",
   "execution_count": null,
   "metadata": {},
   "outputs": [],
   "source": [
    "print('Train min/max date: %s / %s' % (train_df.impression_time.min().date(), train_df.impression_time.max().date()))\n",
    "print('Test  min/max date: %s / %s' % ( test_df.impression_time.min().date(),  test_df.impression_time.max().date()))\n",
    "print('')\n",
    "print('Number of days in train: %d' % ((train_df.impression_time.max() - train_df.impression_time.min()).days + 1))\n",
    "print('Number of days in test:  %d' % (( test_df.impression_time.max() -  test_df.impression_time.min()).days + 1))\n",
    "print('')\n",
    "print('Train shape: %d rows' % train_df.shape[0])\n",
    "print('Test shape: %d rows'  % test_df.shape[0])"
   ]
  },
  {
   "cell_type": "markdown",
   "metadata": {},
   "source": [
    "## Train_Data Preprocessing"
   ]
  },
  {
   "cell_type": "code",
   "execution_count": null,
   "metadata": {},
   "outputs": [],
   "source": [
    "train_test = pd.concat([train_df,test_df],sort=False,axis=0).reset_index(drop=True)\n",
    "#del train_df,test_df\n",
    "gc.collect()"
   ]
  },
  {
   "cell_type": "code",
   "execution_count": null,
   "metadata": {},
   "outputs": [],
   "source": [
    "train_test = train_test.sort_values(by=['impression_time']).reset_index(drop=True)\n",
    "train_test.head()"
   ]
  },
  {
   "cell_type": "code",
   "execution_count": null,
   "metadata": {},
   "outputs": [],
   "source": [
    "train_test.shape"
   ]
  },
  {
   "cell_type": "code",
   "execution_count": null,
   "metadata": {},
   "outputs": [],
   "source": [
    "def hour_encode(val):\n",
    "    if val in list(range(2,8)):\n",
    "        return 0\n",
    "    elif val in list(range(9,14)):\n",
    "        return 1\n",
    "    else:\n",
    "        return 2"
   ]
  },
  {
   "cell_type": "code",
   "execution_count": null,
   "metadata": {},
   "outputs": [],
   "source": [
    "#train_test['hour_encode'] = train_test['impression_time_hour'].apply(hour_encode)"
   ]
  },
  {
   "cell_type": "code",
   "execution_count": null,
   "metadata": {},
   "outputs": [],
   "source": [
    "##unique app_code\n",
    "train_test.ix[train_test['app_code'].isin(ss+s),'app_code_prsent']=1\n",
    "train_test.ix[~train_test['app_code'].isin(ss+s),'app_code_prsent']=0\n",
    "train_test['app_code_prsent'] = train_test['app_code_prsent'].astype(np.int8)"
   ]
  },
  {
   "cell_type": "code",
   "execution_count": null,
   "metadata": {},
   "outputs": [],
   "source": [
    "## impression_time\n",
    "_ = train_test.groupby('user_id')['impression_time_in_seconds'].mean().reset_index()\n",
    "_.columns = ['user_id','user_impression_time_in_second_mean']\n",
    "train_test = pd.merge(train_test,_,how='left',on='user_id')\n",
    "train_test[\"user_cumnum_impression_time\"] = train_test.groupby(\"user_id\")[\"impression_time_in_seconds\"].cumcount().values"
   ]
  },
  {
   "cell_type": "code",
   "execution_count": null,
   "metadata": {},
   "outputs": [],
   "source": [
    "_ = train_test.groupby('user_id').size().reset_index()\n",
    "_.columns = ['user_id','user_id_count']\n",
    "train_test = pd.merge(train_test,_,how='left',on='user_id')"
   ]
  },
  {
   "cell_type": "code",
   "execution_count": null,
   "metadata": {},
   "outputs": [],
   "source": [
    "train_test['prev_impression_time'] = train_test.groupby('user_id')['impression_time_in_seconds'].shift(1)\n",
    "train_test['time_gap_between_prev'] = train_test['impression_time_in_seconds']-train_test['prev_impression_time']\n",
    "train_test['next_impression_time'] = train_test.groupby('user_id')['impression_time_in_seconds'].shift(-1)\n",
    "train_test['time_gap_between_next'] = train_test['impression_time_in_seconds']-train_test['next_impression_time']\n",
    "train_test.drop(columns=['prev_impression_time','next_impression_time'],inplace=True)"
   ]
  },
  {
   "cell_type": "code",
   "execution_count": null,
   "metadata": {},
   "outputs": [],
   "source": [
    "train_test['prev_impression_time_2'] = train_test.groupby('user_id')['impression_time_in_seconds'].shift(2)\n",
    "train_test['time_gap_between_prev_2'] = train_test['impression_time_in_seconds']-train_test['prev_impression_time_2']\n",
    "train_test['next_impression_time_2'] = train_test.groupby('user_id')['impression_time_in_seconds'].shift(-2)\n",
    "train_test['time_gap_between_next_2'] = train_test['impression_time_in_seconds']-train_test['next_impression_time_2']\n",
    "train_test.drop(columns=['prev_impression_time_2','next_impression_time_2'],inplace=True)"
   ]
  },
  {
   "cell_type": "code",
   "execution_count": null,
   "metadata": {},
   "outputs": [],
   "source": [
    "train_test['prev_impression_time_3'] = train_test.groupby('user_id')['impression_time_in_seconds'].shift(3)\n",
    "train_test['time_gap_between_prev_3'] = train_test['impression_time_in_seconds']-train_test['prev_impression_time_3']\n",
    "train_test['next_impression_time_3'] = train_test.groupby('user_id')['impression_time_in_seconds'].shift(-3)\n",
    "train_test['time_gap_between_next_3'] = train_test['impression_time_in_seconds']-train_test['next_impression_time_3']\n",
    "train_test.drop(columns=['prev_impression_time_3','next_impression_time_3'],inplace=True)"
   ]
  },
  {
   "cell_type": "code",
   "execution_count": null,
   "metadata": {},
   "outputs": [],
   "source": [
    "_ = train_test.groupby(['user_id'])['app_code'].nunique().reset_index()\n",
    "_.columns=['user_id','userId_appCode_unique']\n",
    "train_test = pd.merge(train_test,_,how='left',on='user_id')\n",
    "_ = train_test.groupby(['user_id','app_code']).size().reset_index()\n",
    "_.columns=['user_id','app_code','userId_appCode_size']\n",
    "train_test = pd.merge(train_test,_,how='left',on=['user_id','app_code'])\n",
    "del _\n",
    "gc.collect()"
   ]
  },
  {
   "cell_type": "code",
   "execution_count": null,
   "metadata": {},
   "outputs": [],
   "source": [
    "## os_version\n",
    "_ = train_test.groupby(['user_id'])['os_version'].nunique().reset_index()\n",
    "_.columns=['user_id','userId_osVersion_unique']\n",
    "train_test = pd.merge(train_test,_,how='left',on='user_id')\n",
    "_ = train_test.groupby(['user_id','os_version']).size().reset_index()\n",
    "_.columns=['user_id','os_version','userId_osVersion_size']\n",
    "train_test = pd.merge(train_test,_,how='left',on=['user_id','os_version'])\n",
    "del _\n",
    "gc.collect()"
   ]
  },
  {
   "cell_type": "code",
   "execution_count": null,
   "metadata": {},
   "outputs": [],
   "source": [
    "## is_4G\n",
    "_ = train_test.groupby(['user_id'])['is_4G'].nunique().reset_index()\n",
    "_.columns=['user_id','userId_is4G_unique']\n",
    "train_test = pd.merge(train_test,_,how='left',on='user_id')\n",
    "_ = train_test.groupby(['user_id','is_4G']).size().reset_index()\n",
    "_.columns=['user_id','is_4G','userId_is4G_size']\n",
    "train_test = pd.merge(train_test,_,how='left',on=['user_id','is_4G'])\n",
    "del _\n",
    "gc.collect()"
   ]
  },
  {
   "cell_type": "code",
   "execution_count": null,
   "metadata": {},
   "outputs": [],
   "source": [
    "mask  = train_test['userId_appCode_size']==train_test['user_id_count']\n",
    "train_test.ix[mask,'userId_appCode_size']=-1\n",
    "mask1 = train_test['userId_osVersion_size']==train_test['user_id_count']\n",
    "train_test.ix[mask1,'userId_osVersion_size']=-1\n",
    "mask2 = train_test['userId_is4G_size']==train_test['user_id_count']\n",
    "train_test.ix[mask2,'userId_is4G_size']=-1"
   ]
  },
  {
   "cell_type": "code",
   "execution_count": null,
   "metadata": {},
   "outputs": [],
   "source": [
    "## impression_id\n",
    "_ = train_test.groupby(['user_id'])['impression_id'].nunique().reset_index()\n",
    "_.columns=['user_id','user_impression_nunique']\n",
    "train_test = pd.merge(train_test,_,how='left',on=['user_id'])\n",
    "train_test['user_impression_ratio'] = train_test['user_impression_nunique']/train_test['user_id_count']"
   ]
  },
  {
   "cell_type": "code",
   "execution_count": null,
   "metadata": {},
   "outputs": [],
   "source": [
    "train_test.shape"
   ]
  },
  {
   "cell_type": "code",
   "execution_count": null,
   "metadata": {},
   "outputs": [],
   "source": [
    "view_log = pd.merge(view_log,item_data,on='item_id',how='left')\n",
    "del item_data\n",
    "gc.collect()"
   ]
  },
  {
   "cell_type": "code",
   "execution_count": null,
   "metadata": {},
   "outputs": [],
   "source": [
    "view_log.head(100)"
   ]
  },
  {
   "cell_type": "code",
   "execution_count": null,
   "metadata": {},
   "outputs": [],
   "source": [
    "def label_encode_df(dataframe,cols):\n",
    "    for col in cols:\n",
    "        le=preprocessing.LabelEncoder()\n",
    "        dataframe[str(col)+'_encode']=le.fit_transform(dataframe[col].astype(str))"
   ]
  },
  {
   "cell_type": "code",
   "execution_count": null,
   "metadata": {},
   "outputs": [],
   "source": [
    "label_encode_df(train_test,['impression_id','os_version'])\n",
    "label_encode_df(view_log,['device_type'])"
   ]
  },
  {
   "cell_type": "code",
   "execution_count": null,
   "metadata": {},
   "outputs": [],
   "source": [
    "date_cols = ['server_time']\n",
    "for date_col in date_cols:\n",
    "    view_log[date_col + \"_in_seconds\"] = (view_log[date_col] - dt.datetime(2000,1,1)).dt.total_seconds()\n",
    "    view_log[date_col + \"_month\"] = view_log[date_col].dt.month\n",
    "    #train_df[date_col + \"_year\"] = train_df[date_col].dt.year\n",
    "    #test_df[date_col + \"_year\"] = test_df[date_col].dt.year\n",
    "    view_log[date_col + \"_week\"] = view_log[date_col].dt.week\n",
    "    view_log[date_col + \"_weekDay\"] = view_log[date_col].dt.weekday"
   ]
  },
  {
   "cell_type": "code",
   "execution_count": null,
   "metadata": {},
   "outputs": [],
   "source": [
    "_ = view_log.groupby('user_id')['device_type'].nunique().reset_index()\n",
    "_.columns= ['user_id','device_type_nunique']\n",
    "view_log = pd.merge(view_log,_,on='user_id',how='left')\n",
    "train_test = pd.merge(train_test,_,on='user_id',how='left')\n",
    "del _\n",
    "gc.collect()"
   ]
  },
  {
   "cell_type": "code",
   "execution_count": null,
   "metadata": {},
   "outputs": [],
   "source": [
    "_ = view_log.groupby('user_id')['session_id'].nunique().reset_index()\n",
    "_.columns= ['user_id','session_id_nunique']\n",
    "view_log = pd.merge(view_log,_,on='user_id',how='left')\n",
    "train_test = pd.merge(train_test,_,on='user_id',how='left')\n",
    "del _\n",
    "gc.collect()\n"
   ]
  },
  {
   "cell_type": "code",
   "execution_count": null,
   "metadata": {},
   "outputs": [],
   "source": [
    "_ = view_log.groupby('user_id')['item_id'].nunique().reset_index()\n",
    "_.columns= ['user_id','item_id_nunique']\n",
    "view_log = pd.merge(view_log,_,on='user_id',how='left')\n",
    "train_test = pd.merge(train_test,_,on='user_id',how='left')\n",
    "del _\n",
    "gc.collect()"
   ]
  },
  {
   "cell_type": "code",
   "execution_count": null,
   "metadata": {},
   "outputs": [],
   "source": [
    "_ = view_log.groupby(['user_id']).size().reset_index()\n",
    "_.columns = ['user_id','no_of_time_user_connected']\n",
    "view_log = pd.merge(view_log,_,on='user_id',how='left')\n",
    "train_test = pd.merge(train_test,_,on='user_id',how='left')\n",
    "del _ \n",
    "gc.collect()"
   ]
  },
  {
   "cell_type": "code",
   "execution_count": null,
   "metadata": {},
   "outputs": [],
   "source": [
    "_ = view_log.groupby('user_id')['server_time_in_seconds'].mean().reset_index()\n",
    "_.columns = ['user_id','user_server_time_in_second_mean']\n",
    "view_log = pd.merge(view_log,_,on='user_id',how='left')\n",
    "train_test = pd.merge(train_test,_,on='user_id',how='left')\n",
    "del _ \n",
    "gc.collect()"
   ]
  },
  {
   "cell_type": "code",
   "execution_count": null,
   "metadata": {},
   "outputs": [],
   "source": [
    "train_test['user_session_ratio'] = train_test['session_id_nunique']/train_test['no_of_time_user_connected']\n",
    "train_test['user_item_ratio'] = train_test['item_id_nunique']/train_test['no_of_time_user_connected']\n",
    "\n",
    "view_log['user_session_ratio'] = view_log['session_id_nunique']/view_log['no_of_time_user_connected']\n",
    "view_log['user_item_ratio'] = view_log['item_id_nunique']/view_log['no_of_time_user_connected']"
   ]
  },
  {
   "cell_type": "code",
   "execution_count": null,
   "metadata": {},
   "outputs": [],
   "source": [
    "_ = view_log.groupby(['user_id','session_id'])['server_time_in_seconds'].first().reset_index()\n",
    "_.columns = ['user_id','session_id','first']\n",
    "view_log = pd.merge(view_log,_,how='left',on=['user_id','session_id'])\n",
    "\n",
    "_ = view_log.groupby(['user_id','session_id'])['server_time_in_seconds'].last().reset_index()\n",
    "_.columns = ['user_id','session_id','last']\n",
    "view_log = pd.merge(view_log,_,how='left',on=['user_id','session_id'])\n",
    "view_log['overall_session_time'] = view_log['last']-view_log['first']\n",
    "del _ \n",
    "gc.collect()\n",
    "\n",
    "\n",
    "_ = view_log.groupby(['user_id'])['overall_session_time'].sum().reset_index()\n",
    "_.columns = ['user_id','overall_time_sum']\n",
    "view_log = pd.merge(view_log,_,how='left',on='user_id')\n",
    "train_test = pd.merge(train_test,_,on='user_id',how='left')\n",
    "\n",
    "del _\n",
    "gc.collect()"
   ]
  },
  {
   "cell_type": "code",
   "execution_count": null,
   "metadata": {},
   "outputs": [],
   "source": [
    "view_log.drop(columns=['first','last','overall_session_time'],inplace=True)"
   ]
  },
  {
   "cell_type": "code",
   "execution_count": null,
   "metadata": {},
   "outputs": [],
   "source": [
    "_ = view_log.groupby([\"user_id\"])[\"item_price\"].agg([\"min\", \"max\", \"mean\", \"std\"]).reset_index()\n",
    "_.columns   = ['user_id','user_item_price_min','user_item_price_max','user_item_price_mean','user_item_price_std']\n",
    "train_test = pd.merge(train_test,_,on='user_id',how='left')\n",
    "view_log = pd.merge(view_log,_,how='left',on='user_id')\n",
    "del _\n",
    "gc.collect()"
   ]
  },
  {
   "cell_type": "code",
   "execution_count": null,
   "metadata": {},
   "outputs": [],
   "source": [
    "train_test.head()"
   ]
  },
  {
   "cell_type": "code",
   "execution_count": null,
   "metadata": {},
   "outputs": [],
   "source": [
    "#train_test['diff_user_impression_session_time_in_second_mean'] = train_test['user_impression_time_in_second_mean']-train_test['user_server_time_in_second_mean']"
   ]
  },
  {
   "cell_type": "code",
   "execution_count": null,
   "metadata": {},
   "outputs": [],
   "source": [
    "view_log.head(100)"
   ]
  },
  {
   "cell_type": "code",
   "execution_count": null,
   "metadata": {},
   "outputs": [],
   "source": [
    "train_test.head()"
   ]
  },
  {
   "cell_type": "code",
   "execution_count": null,
   "metadata": {},
   "outputs": [],
   "source": [
    "train_test['user_app_price_rank'] = train_test.groupby(['user_id','app_code'])['user_item_price_mean'].rank()"
   ]
  },
  {
   "cell_type": "code",
   "execution_count": null,
   "metadata": {},
   "outputs": [],
   "source": [
    "train_test.columns"
   ]
  },
  {
   "cell_type": "code",
   "execution_count": null,
   "metadata": {},
   "outputs": [],
   "source": [
    "_ = pd.pivot_table(train_test, index=\"user_id\", columns=\"impression_time_weekDay\", values=\"impression_id\", aggfunc=\"count\", fill_value=0).reset_index()\n",
    "train_test = pd.merge(train_test, _, on=\"user_id\", how=\"left\")\n",
    "_ = pd.pivot_table(train_test, index=\"user_id\", columns=\"impression_time_weekDay\", values=\"impression_id\", aggfunc=\"count\", fill_value=0).reset_index()\n",
    "train_test = pd.merge(train_test, _, on=\"user_id\", how=\"left\")\n",
    "\n",
    "_ = pd.pivot_table(train_test, index=\"user_id\", columns=\"impression_time_month\", values=\"impression_id\", aggfunc=\"count\", fill_value=0).reset_index()\n",
    "train_test = pd.merge(train_test, _, on=\"user_id\", how=\"left\")\n",
    "\n",
    "_ = pd.pivot_table(train_test, index=\"user_id\", columns=\"impression_time_hour\", values=\"impression_id\", aggfunc=\"count\", fill_value=0).reset_index()\n",
    "train_test = pd.merge(train_test, _, on=\"user_id\", how=\"left\")\n",
    "\n",
    "_ = pd.pivot_table(train_test, index=\"user_id\", columns=\"impression_time_week\", values=\"impression_id\", aggfunc=\"count\", fill_value=0).reset_index()\n",
    "train_test = pd.merge(train_test, _, on=\"user_id\", how=\"left\")\n",
    "\n",
    "\n",
    "_ = pd.pivot_table(train_test, index=\"user_id\", columns=\"app_code\", values=\"impression_id\", aggfunc=\"count\", fill_value=0).reset_index()\n",
    "train_test = pd.merge(train_test, _, on=\"user_id\", how=\"left\")\n",
    "\n",
    "del _\n",
    "gc.collect()\n"
   ]
  },
  {
   "cell_type": "code",
   "execution_count": null,
   "metadata": {},
   "outputs": [],
   "source": [
    "_ = train_test.groupby(['user_id'])['app_code'].shift(1)\n",
    "train_test['prev_app_code_diff'] = (train_test['app_code'] == _).astype(int)\n",
    "_ = train_test.groupby(['user_id'])['app_code'].shift(-1)\n",
    "train_test['next_app_code_diff'] = (train_test['app_code'] == _).astype(int)\n"
   ]
  },
  {
   "cell_type": "code",
   "execution_count": null,
   "metadata": {},
   "outputs": [],
   "source": [
    "train_test.head()"
   ]
  },
  {
   "cell_type": "code",
   "execution_count": null,
   "metadata": {},
   "outputs": [],
   "source": [
    "train_test.shape"
   ]
  },
  {
   "cell_type": "code",
   "execution_count": null,
   "metadata": {},
   "outputs": [],
   "source": [
    "train_test = train_test.sort_values(by=['impression_time','user_id'])"
   ]
  },
  {
   "cell_type": "code",
   "execution_count": null,
   "metadata": {},
   "outputs": [],
   "source": [
    "train_test['user_impressionTime_diff_in_seconds']  = train_test.groupby(['user_id'])['impression_time_in_seconds'].diff()"
   ]
  },
  {
   "cell_type": "code",
   "execution_count": null,
   "metadata": {},
   "outputs": [],
   "source": [
    "gc.collect()"
   ]
  },
  {
   "cell_type": "code",
   "execution_count": null,
   "metadata": {},
   "outputs": [],
   "source": [
    "train_test.shape"
   ]
  },
  {
   "cell_type": "code",
   "execution_count": null,
   "metadata": {},
   "outputs": [],
   "source": [
    "train_test.to_pickle('train_test_1.pkl')  "
   ]
  },
  {
   "cell_type": "code",
   "execution_count": null,
   "metadata": {},
   "outputs": [],
   "source": [
    "cols_to_exclude = [\"impression_time\", \"is_click\",'is_train','impression_id','os_version','device_type','diff_user_impression_session_time_in_second_mean']\n",
    "cols_to_use = [col for col in train_test.columns if col not in cols_to_exclude]"
   ]
  },
  {
   "cell_type": "code",
   "execution_count": null,
   "metadata": {},
   "outputs": [],
   "source": [
    "train_df = train_test[train_test['is_train']==1]\n",
    "test_df = train_test[train_test['is_train']==0]"
   ]
  },
  {
   "cell_type": "code",
   "execution_count": null,
   "metadata": {},
   "outputs": [],
   "source": [
    "train_df.shape"
   ]
  },
  {
   "cell_type": "code",
   "execution_count": null,
   "metadata": {},
   "outputs": [],
   "source": [
    "del train_test"
   ]
  },
  {
   "cell_type": "code",
   "execution_count": null,
   "metadata": {},
   "outputs": [],
   "source": [
    "gc.collect()"
   ]
  },
  {
   "cell_type": "code",
   "execution_count": null,
   "metadata": {},
   "outputs": [],
   "source": [
    "train_df['is_click'] = train_df['is_click'].astype(np.int8)"
   ]
  },
  {
   "cell_type": "code",
   "execution_count": null,
   "metadata": {},
   "outputs": [],
   "source": [
    "train_df[train_df['is_click']==1].shape"
   ]
  },
  {
   "cell_type": "code",
   "execution_count": null,
   "metadata": {},
   "outputs": [],
   "source": [
    "params = {}\n",
    "params[\"objective\"] = \"binary\"\n",
    "params[\"max_depth\"] = -1\n",
    "#  params[\"min_sum_hessian_in_leaf\"] = 50\n",
    "params[\"learning_rate\"] = 0.008\n",
    "params[\"bagging_fraction\"] = 0.8\n",
    "params[\"feature_fraction\"] = 0.2\n",
    "params[\"feature_fraction_seed\"] = 42\n",
    "params[\"bagging_freq\"] = 1\n",
    "params[\"bagging_seed\"] = 42\n",
    "params[\"verbosity\"] = -1\n",
    "params['metric']='auc'"
   ]
  },
  {
   "cell_type": "code",
   "execution_count": null,
   "metadata": {},
   "outputs": [],
   "source": [
    "target = train_df['is_click']\n",
    "folds = StratifiedKFold(n_splits=5,shuffle=True,random_state=42)\n",
    "oof = np.zeros(len(train_df))\n",
    "predictions = np.zeros(len(test_df))\n",
    "feature_importance_df = pd.DataFrame()\n",
    "\n",
    "for fold_, (trn_idx, val_idx) in enumerate(tqdm(folds.split(train_df.values, target.values))):\n",
    "    print(\"Fold {}\".format(fold_))\n",
    "    trn_data = lgb.Dataset(train_df.iloc[trn_idx][cols_to_use], label=target.iloc[trn_idx])\n",
    "    val_data = lgb.Dataset(train_df.iloc[val_idx][cols_to_use], label=target.iloc[val_idx])\n",
    "    num_round = 400000\n",
    "    clf = lgb.train(params, trn_data, num_round, valid_sets = [trn_data, val_data], verbose_eval=500, early_stopping_rounds = 200)\n",
    "    oof[val_idx] = clf.predict(train_df.iloc[val_idx][cols_to_use], num_iteration=clf.best_iteration)\n",
    "    \n",
    "   \n",
    "    predictions += clf.predict(test_df[cols_to_use], num_iteration=clf.best_iteration) / folds.n_splits\n",
    "\n",
    "print(\"CV score: {:<8.5f}\".format(roc_auc_score(target, oof)))"
   ]
  },
  {
   "cell_type": "code",
   "execution_count": null,
   "metadata": {},
   "outputs": [],
   "source": [
    "from sklearn.metrics import roc_auc_score, roc_curve\n",
    "\n",
    "auc = roc_auc_score(train_df['is_click'], oof)\n",
    "fpr, tpr, thresholds = roc_curve(train_df['is_click'], oof)\n",
    "plt.figure()\n",
    "plt.plot(fpr, tpr, label='Adaptive Boosting Classifier (area = %0.2f)' % auc)\n",
    "plt.plot([0, 1], [0, 1],'r--')\n",
    "plt.xlim([0.0, 1.0])\n",
    "plt.ylim([0.0, 1.05])\n",
    "plt.xlabel('False Positive Rate'), plt.ylabel('True Positive Rate'), plt.title('Receiver operating characteristic')\n",
    "plt.legend(loc=\"lower right\")\n",
    "# plt.savefig('Log_ROC')\n",
    "plt.show()"
   ]
  },
  {
   "cell_type": "code",
   "execution_count": null,
   "metadata": {},
   "outputs": [],
   "source": [
    "sub_df = pd.DataFrame(test_df[[\"impression_id\"]])\n",
    "sub_df['is_click'] = predictions \n",
    "sub_df.to_csv(\"lgbm-0.751913487461546.csv\", index=False)"
   ]
  },
  {
   "cell_type": "code",
   "execution_count": null,
   "metadata": {},
   "outputs": [],
   "source": []
  }
 ],
 "metadata": {
  "kernelspec": {
   "display_name": "Python 3",
   "language": "python",
   "name": "python3"
  },
  "language_info": {
   "codemirror_mode": {
    "name": "ipython",
    "version": 3
   },
   "file_extension": ".py",
   "mimetype": "text/x-python",
   "name": "python",
   "nbconvert_exporter": "python",
   "pygments_lexer": "ipython3",
   "version": "3.7.3"
  },
  "toc": {
   "base_numbering": 1,
   "nav_menu": {},
   "number_sections": true,
   "sideBar": true,
   "skip_h1_title": false,
   "title_cell": "Table of Contents",
   "title_sidebar": "Contents",
   "toc_cell": false,
   "toc_position": {},
   "toc_section_display": true,
   "toc_window_display": false
  },
  "varInspector": {
   "cols": {
    "lenName": 16,
    "lenType": 16,
    "lenVar": 40
   },
   "kernels_config": {
    "python": {
     "delete_cmd_postfix": "",
     "delete_cmd_prefix": "del ",
     "library": "var_list.py",
     "varRefreshCmd": "print(var_dic_list())"
    },
    "r": {
     "delete_cmd_postfix": ") ",
     "delete_cmd_prefix": "rm(",
     "library": "var_list.r",
     "varRefreshCmd": "cat(var_dic_list()) "
    }
   },
   "types_to_exclude": [
    "module",
    "function",
    "builtin_function_or_method",
    "instance",
    "_Feature"
   ],
   "window_display": false
  },
  "widgets": {
   "application/vnd.jupyter.widget-state+json": {
    "state": {
     "151f3128c44844b6bdb2595e66272371": {
      "model_module": "@jupyter-widgets/base",
      "model_module_version": "1.2.0",
      "model_name": "LayoutModel",
      "state": {
       "_model_module": "@jupyter-widgets/base",
       "_model_module_version": "1.2.0",
       "_model_name": "LayoutModel",
       "_view_count": null,
       "_view_module": "@jupyter-widgets/base",
       "_view_module_version": "1.2.0",
       "_view_name": "LayoutView",
       "align_content": null,
       "align_items": null,
       "align_self": null,
       "border": null,
       "bottom": null,
       "display": null,
       "flex": null,
       "flex_flow": null,
       "grid_area": null,
       "grid_auto_columns": null,
       "grid_auto_flow": null,
       "grid_auto_rows": null,
       "grid_column": null,
       "grid_gap": null,
       "grid_row": null,
       "grid_template_areas": null,
       "grid_template_columns": null,
       "grid_template_rows": null,
       "height": null,
       "justify_content": null,
       "justify_items": null,
       "left": null,
       "margin": null,
       "max_height": null,
       "max_width": null,
       "min_height": null,
       "min_width": null,
       "object_fit": null,
       "object_position": null,
       "order": null,
       "overflow": null,
       "overflow_x": null,
       "overflow_y": null,
       "padding": null,
       "right": null,
       "top": null,
       "visibility": null,
       "width": null
      }
     },
     "33163d4853d3435da1b9f23c7094b39b": {
      "model_module": "@jupyter-widgets/base",
      "model_module_version": "1.2.0",
      "model_name": "LayoutModel",
      "state": {
       "_model_module": "@jupyter-widgets/base",
       "_model_module_version": "1.2.0",
       "_model_name": "LayoutModel",
       "_view_count": null,
       "_view_module": "@jupyter-widgets/base",
       "_view_module_version": "1.2.0",
       "_view_name": "LayoutView",
       "align_content": null,
       "align_items": null,
       "align_self": null,
       "border": null,
       "bottom": null,
       "display": null,
       "flex": null,
       "flex_flow": null,
       "grid_area": null,
       "grid_auto_columns": null,
       "grid_auto_flow": null,
       "grid_auto_rows": null,
       "grid_column": null,
       "grid_gap": null,
       "grid_row": null,
       "grid_template_areas": null,
       "grid_template_columns": null,
       "grid_template_rows": null,
       "height": null,
       "justify_content": null,
       "justify_items": null,
       "left": null,
       "margin": null,
       "max_height": null,
       "max_width": null,
       "min_height": null,
       "min_width": null,
       "object_fit": null,
       "object_position": null,
       "order": null,
       "overflow": null,
       "overflow_x": null,
       "overflow_y": null,
       "padding": null,
       "right": null,
       "top": null,
       "visibility": null,
       "width": null
      }
     },
     "47cc11b3938c4303a44ae339942f5283": {
      "model_module": "@jupyter-widgets/controls",
      "model_module_version": "1.5.0",
      "model_name": "IntProgressModel",
      "state": {
       "_dom_classes": [],
       "_model_module": "@jupyter-widgets/controls",
       "_model_module_version": "1.5.0",
       "_model_name": "IntProgressModel",
       "_view_count": null,
       "_view_module": "@jupyter-widgets/controls",
       "_view_module_version": "1.5.0",
       "_view_name": "ProgressView",
       "bar_style": "success",
       "description": "",
       "description_tooltip": null,
       "layout": "IPY_MODEL_4bcfc989695b41cd95961b8d5ac9aeb3",
       "max": 1,
       "min": 0,
       "orientation": "horizontal",
       "style": "IPY_MODEL_70d724ddc15f4b8bb44eba71a77f5d29",
       "value": 1
      }
     },
     "4bcfc989695b41cd95961b8d5ac9aeb3": {
      "model_module": "@jupyter-widgets/base",
      "model_module_version": "1.2.0",
      "model_name": "LayoutModel",
      "state": {
       "_model_module": "@jupyter-widgets/base",
       "_model_module_version": "1.2.0",
       "_model_name": "LayoutModel",
       "_view_count": null,
       "_view_module": "@jupyter-widgets/base",
       "_view_module_version": "1.2.0",
       "_view_name": "LayoutView",
       "align_content": null,
       "align_items": null,
       "align_self": null,
       "border": null,
       "bottom": null,
       "display": null,
       "flex": null,
       "flex_flow": null,
       "grid_area": null,
       "grid_auto_columns": null,
       "grid_auto_flow": null,
       "grid_auto_rows": null,
       "grid_column": null,
       "grid_gap": null,
       "grid_row": null,
       "grid_template_areas": null,
       "grid_template_columns": null,
       "grid_template_rows": null,
       "height": null,
       "justify_content": null,
       "justify_items": null,
       "left": null,
       "margin": null,
       "max_height": null,
       "max_width": null,
       "min_height": null,
       "min_width": null,
       "object_fit": null,
       "object_position": null,
       "order": null,
       "overflow": null,
       "overflow_x": null,
       "overflow_y": null,
       "padding": null,
       "right": null,
       "top": null,
       "visibility": null,
       "width": null
      }
     },
     "5f8eb60aed8644bd8d4be0c977d89815": {
      "model_module": "@jupyter-widgets/controls",
      "model_module_version": "1.5.0",
      "model_name": "HTMLModel",
      "state": {
       "_dom_classes": [],
       "_model_module": "@jupyter-widgets/controls",
       "_model_module_version": "1.5.0",
       "_model_name": "HTMLModel",
       "_view_count": null,
       "_view_module": "@jupyter-widgets/controls",
       "_view_module_version": "1.5.0",
       "_view_name": "HTMLView",
       "description": "",
       "description_tooltip": null,
       "layout": "IPY_MODEL_151f3128c44844b6bdb2595e66272371",
       "placeholder": "​",
       "style": "IPY_MODEL_e73e9585bec74d368c80d4343c22930e",
       "value": "5/|/| 5/? [00:03&lt;00:00,  1.59it/s]"
      }
     },
     "70d724ddc15f4b8bb44eba71a77f5d29": {
      "model_module": "@jupyter-widgets/controls",
      "model_module_version": "1.5.0",
      "model_name": "ProgressStyleModel",
      "state": {
       "_model_module": "@jupyter-widgets/controls",
       "_model_module_version": "1.5.0",
       "_model_name": "ProgressStyleModel",
       "_view_count": null,
       "_view_module": "@jupyter-widgets/base",
       "_view_module_version": "1.2.0",
       "_view_name": "StyleView",
       "bar_color": null,
       "description_width": ""
      }
     },
     "b9944374ac3b4a8abc90076d661d14a6": {
      "model_module": "@jupyter-widgets/controls",
      "model_module_version": "1.5.0",
      "model_name": "HBoxModel",
      "state": {
       "_dom_classes": [],
       "_model_module": "@jupyter-widgets/controls",
       "_model_module_version": "1.5.0",
       "_model_name": "HBoxModel",
       "_view_count": null,
       "_view_module": "@jupyter-widgets/controls",
       "_view_module_version": "1.5.0",
       "_view_name": "HBoxView",
       "box_style": "",
       "children": [
        "IPY_MODEL_47cc11b3938c4303a44ae339942f5283",
        "IPY_MODEL_5f8eb60aed8644bd8d4be0c977d89815"
       ],
       "layout": "IPY_MODEL_33163d4853d3435da1b9f23c7094b39b"
      }
     },
     "e73e9585bec74d368c80d4343c22930e": {
      "model_module": "@jupyter-widgets/controls",
      "model_module_version": "1.5.0",
      "model_name": "DescriptionStyleModel",
      "state": {
       "_model_module": "@jupyter-widgets/controls",
       "_model_module_version": "1.5.0",
       "_model_name": "DescriptionStyleModel",
       "_view_count": null,
       "_view_module": "@jupyter-widgets/base",
       "_view_module_version": "1.2.0",
       "_view_name": "StyleView",
       "description_width": ""
      }
     }
    },
    "version_major": 2,
    "version_minor": 0
   }
  }
 },
 "nbformat": 4,
 "nbformat_minor": 1
}
